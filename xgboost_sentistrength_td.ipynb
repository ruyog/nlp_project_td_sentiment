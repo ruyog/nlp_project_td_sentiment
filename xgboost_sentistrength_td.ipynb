{
  "nbformat": 4,
  "nbformat_minor": 0,
  "metadata": {
    "colab": {
      "name": "xgboost_sentistrength_td.ipynb",
      "provenance": [],
      "collapsed_sections": []
    },
    "kernelspec": {
      "name": "python3",
      "display_name": "Python 3"
    },
    "accelerator": "GPU"
  },
  "cells": [
    {
      "cell_type": "code",
      "metadata": {
        "id": "385FMgH7tK6u",
        "outputId": "095f7dd7-ff80-4003-86ef-d4da8f671efc",
        "colab": {
          "base_uri": "https://localhost:8080/",
          "height": 35
        }
      },
      "source": [
        "from google.colab import drive\n",
        "drive.mount('/content/drive')"
      ],
      "execution_count": null,
      "outputs": [
        {
          "output_type": "stream",
          "text": [
            "Drive already mounted at /content/drive; to attempt to forcibly remount, call drive.mount(\"/content/drive\", force_remount=True).\n"
          ],
          "name": "stdout"
        }
      ]
    },
    {
      "cell_type": "code",
      "metadata": {
        "id": "ayf_sxFowaFu"
      },
      "source": [
        "#Importing modules\n",
        "import numpy as np, pandas as pd\n",
        "import matplotlib.pyplot as plt\n",
        "import logging\n",
        "from sklearn.model_selection import train_test_split\n",
        "from sklearn.preprocessing import LabelEncoder\n",
        "from sklearn.preprocessing import OneHotEncoder\n",
        "\n",
        "\n",
        "from sklearn.model_selection import StratifiedKFold\n",
        "\n",
        "#Evaluation Metrics\n",
        "from sklearn.metrics import accuracy_score\n",
        "from sklearn.metrics import precision_score\n",
        "from sklearn.metrics import recall_score\n",
        "from sklearn.metrics import f1_score\n",
        "from sklearn.metrics import cohen_kappa_score\n",
        "from sklearn.metrics import roc_auc_score\n",
        "from sklearn.metrics import confusion_matrix\n",
        "from sklearn.metrics import classification_report\n",
        "from sklearn.metrics import precision_recall_fscore_support\n",
        "from sklearn.feature_extraction.text import TfidfVectorizer\n",
        "import xgboost as xgb\n",
        "from statistics import mean\n",
        "import time\n"
      ],
      "execution_count": null,
      "outputs": []
    },
    {
      "cell_type": "code",
      "metadata": {
        "id": "oLBwmQ3ew1fL"
      },
      "source": [
        "tech_debt_df = pd.read_csv('/content/drive/My Drive/tech_debt/technical_debt_dataset.csv',header=0,encoding='latin-1')#'utf-8')"
      ],
      "execution_count": null,
      "outputs": []
    },
    {
      "cell_type": "code",
      "metadata": {
        "id": "TzsNmivYxB_A",
        "outputId": "5d30230a-149a-430d-96b1-56aa36826362",
        "colab": {
          "base_uri": "https://localhost:8080/",
          "height": 35
        }
      },
      "source": [
        "len(tech_debt_df)"
      ],
      "execution_count": null,
      "outputs": [
        {
          "output_type": "execute_result",
          "data": {
            "text/plain": [
              "62275"
            ]
          },
          "metadata": {
            "tags": []
          },
          "execution_count": 4
        }
      ]
    },
    {
      "cell_type": "code",
      "metadata": {
        "id": "9Twmr55cxI3v",
        "outputId": "1fec813e-8c00-4f17-95b7-b8f22e2cecac",
        "colab": {
          "base_uri": "https://localhost:8080/",
          "height": 146
        }
      },
      "source": [
        "tech_debt_df['classification'].value_counts()"
      ],
      "execution_count": null,
      "outputs": [
        {
          "output_type": "execute_result",
          "data": {
            "text/plain": [
              "WITHOUT_CLASSIFICATION    58204\n",
              "DESIGN                     2703\n",
              "IMPLEMENTATION              757\n",
              "DEFECT                      472\n",
              "TEST                         85\n",
              "DOCUMENTATION                54\n",
              "Name: classification, dtype: int64"
            ]
          },
          "metadata": {
            "tags": []
          },
          "execution_count": 5
        }
      ]
    },
    {
      "cell_type": "code",
      "metadata": {
        "id": "kGw9onOCxK6Y"
      },
      "source": [
        "tech_debt_df.loc[tech_debt_df.classification == \"DEFECT\",'tag']=int(1)\n",
        "tech_debt_df.loc[tech_debt_df.classification == \"DESIGN\",'tag']=int(1)\n",
        "tech_debt_df.loc[tech_debt_df.classification == \"DOCUMENTATION\",'tag']=int(1)\n",
        "tech_debt_df.loc[tech_debt_df.classification == \"IMPLEMENTATION\",'tag']=int(1)\n",
        "tech_debt_df.loc[tech_debt_df.classification == \"TEST\",'tag']=int(1)\n",
        "tech_debt_df.loc[tech_debt_df.classification == \"WITHOUT_CLASSIFICATION\",'tag']=int(0)"
      ],
      "execution_count": null,
      "outputs": []
    },
    {
      "cell_type": "code",
      "metadata": {
        "id": "hM_0hLfAxNJp"
      },
      "source": [
        "tech_debt_df['tag']=LabelEncoder().fit_transform(tech_debt_df.tag)\n"
      ],
      "execution_count": null,
      "outputs": []
    },
    {
      "cell_type": "code",
      "metadata": {
        "id": "HXlErEE9xzD9",
        "outputId": "691712ea-1638-4e8d-9363-3229bac36133",
        "colab": {
          "base_uri": "https://localhost:8080/",
          "height": 72
        }
      },
      "source": [
        "tech_debt_df['tag'].value_counts()"
      ],
      "execution_count": null,
      "outputs": [
        {
          "output_type": "execute_result",
          "data": {
            "text/plain": [
              "0    58204\n",
              "1     4071\n",
              "Name: tag, dtype: int64"
            ]
          },
          "metadata": {
            "tags": []
          },
          "execution_count": 8
        }
      ]
    },
    {
      "cell_type": "code",
      "metadata": {
        "id": "VXfguwiCNCHH"
      },
      "source": [
        "index = tech_debt_df.set_index('projectname')\n",
        "#print(index)\n",
        "\n",
        "jedit_df=index.loc[['jEdit-4.2']]\n",
        "argouml_df=index.loc[['argouml']]\n",
        "jmeter_df=index.loc[['apache-jmeter-2.10']]\n",
        "sql_df=index.loc[['sql12']]\n",
        "columba_df=index.loc[['columba-1.4-src']]\n",
        "jruby_df=index.loc[['jruby-1.4.0']]\n",
        "jfreechart_df=index.loc[['jfreechart-1.0.19']]\n",
        "emf_df=index.loc[['emf-2.4.1']]\n",
        "ant_df=index.loc[['apache-ant-1.7.0']]\n",
        "hibernate_df=index.loc[['hibernate-distribution-3.3.2.GA']]\n",
        "consolidated=index.loc[['jEdit-4.2','argouml','apache-jmeter-2.10','sql12','columba-1.4-src','jruby-1.4.0','jfreechart-1.0.19','emf-2.4.1','apache-ant-1.7.0','hibernate-distribution-3.3.2.GA'], ['classification', 'commenttext','tag']]\n"
      ],
      "execution_count": null,
      "outputs": []
    },
    {
      "cell_type": "code",
      "metadata": {
        "id": "shpIdvAVrH17",
        "outputId": "62cd9c4d-00a2-431e-efa9-b72e771b7061",
        "colab": {
          "base_uri": "https://localhost:8080/",
          "height": 54
        }
      },
      "source": [
        "import re\n",
        "import nltk.corpus\n",
        "nltk.download('stopwords')\n",
        "from nltk.corpus import stopwords\n",
        "stop = stopwords.words('english')\n",
        "\n"
      ],
      "execution_count": null,
      "outputs": [
        {
          "output_type": "stream",
          "text": [
            "[nltk_data] Downloading package stopwords to /root/nltk_data...\n",
            "[nltk_data]   Package stopwords is already up-to-date!\n"
          ],
          "name": "stdout"
        }
      ]
    },
    {
      "cell_type": "code",
      "metadata": {
        "id": "7-fE6neGrTgU"
      },
      "source": [
        "# Removes punctuation and special characters\n",
        "def  clean_text(df, text_field, new_text_field_name):\n",
        "    print(len(df)) \n",
        "    #removing empty rows and rows whose comment text <= 2 chars\n",
        "    #nan_value = float(\"NaN\")\n",
        "    #df.replace(\"\", nan_value, inplace=True)    \n",
        "    #df[text_field] = df[text_field].apply(lambda x: nan_value if len(x) <=2 else x )     \n",
        "    df.dropna(subset = [text_field], inplace=True)\n",
        "    print(len(df))\n",
        "    #to lower case and remove hyperslinks and multiple spaces\n",
        "    df[new_text_field_name] = df[text_field].str.lower()\n",
        "    df[new_text_field_name] = df[new_text_field_name].apply(lambda elem: re.sub(r\"(@[A-Za-z0-9]+)|([^0-9A-Za-z \\t])|(\\w+:\\/\\/\\S+)|^rt|http.+?\", \"\", elem))  \n",
        "    # remove numbers\n",
        "    df[new_text_field_name] = df[new_text_field_name].apply(lambda elem: re.sub(r\"\\d+\", \"\", elem))\n",
        "    \n",
        "    \n",
        "    return df"
      ],
      "execution_count": null,
      "outputs": []
    },
    {
      "cell_type": "code",
      "metadata": {
        "id": "msWOd9Qz_82_",
        "outputId": "a8c94ea2-a7f0-4af9-e9b6-4ec756f7cc07",
        "colab": {
          "base_uri": "https://localhost:8080/",
          "height": 35
        }
      },
      "source": [
        "len(consolidated)"
      ],
      "execution_count": null,
      "outputs": [
        {
          "output_type": "execute_result",
          "data": {
            "text/plain": [
              "62244"
            ]
          },
          "metadata": {
            "tags": []
          },
          "execution_count": 139
        }
      ]
    },
    {
      "cell_type": "code",
      "metadata": {
        "id": "InGykhZOrXrK",
        "outputId": "200ba971-4f83-434f-d3b8-75d005758253",
        "colab": {
          "base_uri": "https://localhost:8080/",
          "height": 54
        }
      },
      "source": [
        "consolidated = clean_text(consolidated, 'commenttext', 'commenttext')\n",
        "consolidated['commenttext'] = consolidated['commenttext'].apply(lambda x: ' '.join([word for word in x.split() if word not in (stop)]))"
      ],
      "execution_count": null,
      "outputs": [
        {
          "output_type": "stream",
          "text": [
            "62244\n",
            "53809\n"
          ],
          "name": "stdout"
        }
      ]
    },
    {
      "cell_type": "code",
      "metadata": {
        "id": "wTKmJYKwAs7_"
      },
      "source": [
        "consolidated.dropna(subset = ['commenttext'], inplace=True)"
      ],
      "execution_count": null,
      "outputs": []
    },
    {
      "cell_type": "code",
      "metadata": {
        "id": "c77owylBAyA6",
        "outputId": "45833248-55c1-41ef-92af-33319a8fabcb",
        "colab": {
          "base_uri": "https://localhost:8080/",
          "height": 35
        }
      },
      "source": [
        "len(consolidated)"
      ],
      "execution_count": null,
      "outputs": [
        {
          "output_type": "execute_result",
          "data": {
            "text/plain": [
              "53809"
            ]
          },
          "metadata": {
            "tags": []
          },
          "execution_count": 142
        }
      ]
    },
    {
      "cell_type": "code",
      "metadata": {
        "id": "F2NvMFicrjCW",
        "outputId": "23a520d8-0b9c-4002-a9b9-1172df16e334",
        "colab": {
          "base_uri": "https://localhost:8080/",
          "height": 54
        }
      },
      "source": [
        "import nltk\n",
        "nltk.download('wordnet')\n",
        "from nltk.stem import WordNetLemmatizer \n",
        "\n",
        "# Init the Wordnet Lemmatizer\n",
        "lemmatizer = WordNetLemmatizer()\n",
        "\n",
        "consolidated['commenttext'] = consolidated['commenttext'].apply(lambda x: ' '.join([lemmatizer.lemmatize(word) for word in x.split()]))\n",
        "consolidated['commenttext'] = consolidated['commenttext'].apply(lambda x: ' '.join([word for word in x.split() if word not in (stop)]))\n",
        "consolidated['commenttext'] = consolidated['commenttext'].apply(lambda x: ' '.join([word for word in x.split() if len(word) < 15 ]))"
      ],
      "execution_count": null,
      "outputs": [
        {
          "output_type": "stream",
          "text": [
            "[nltk_data] Downloading package wordnet to /root/nltk_data...\n",
            "[nltk_data]   Package wordnet is already up-to-date!\n"
          ],
          "name": "stdout"
        }
      ]
    },
    {
      "cell_type": "code",
      "metadata": {
        "id": "7Q1RXW8RNE2I"
      },
      "source": [
        "logging.basicConfig(format='%(asctime)s : %(levelname)s : %(message)s', level=logging.INFO)"
      ],
      "execution_count": null,
      "outputs": []
    },
    {
      "cell_type": "code",
      "metadata": {
        "id": "Tfg-Eum2NJBn"
      },
      "source": [
        "tst_rslt_dic={}\n",
        "model_history = []\n",
        "best_model_ind=0\n",
        "val_conf_mat_tp=[]\n",
        "cross_val_prec_list=[]\n",
        "cross_val_rcl_list=[]\n",
        "cross_val_f1_list=[]\n",
        "cross_val_rocauc_list=[]\n",
        "cross_val_sens_list=[]\n",
        "cross_val_spec_list=[]\n",
        "cross_val_gm_list=[]\n",
        "\n",
        "def model_fitting(train_x, val_x, train_y, val_y):\n",
        "  logging.info(\"Fitting a XGB Model...\")\n",
        "  scikit_log_reg = xgb.XGBClassifier()\n",
        "  model=scikit_log_reg.fit(train_x,train_y)\n",
        "  event_time=time.time()\n",
        "  train_pred_y=model.predict(train_x)\n",
        "  conf_mat = confusion_matrix(train_y, train_pred_y)\n",
        "  logging.info(\"Cross-Validating with validation data...\")\n",
        "  event_time=time.time()\n",
        "  val_pred_y=model.predict(val_x)\n",
        "  ##Sensitivity -- Recall of +ve class (in binary classification)\n",
        "  ##Specificity -- Recall of -ve class (in binary classification)\n",
        "  logging.info(\"Cross-Validation Prediction time: %s\",(time.time()-event_time))\n",
        "  val_conf_mat=confusion_matrix(val_y, val_pred_y)\n",
        "  logging.info(\"%s\",val_conf_mat)\n",
        "  val_conf_mat_tp.append(val_conf_mat[1][1])\n",
        "  cross_val_prec_list.append(precision_score(val_y, val_pred_y, average='binary'))\n",
        "  cross_val_rcl_list.append(recall_score(val_y, val_pred_y, average='binary'))\n",
        "  cross_val_f1_list.append(f1_score(val_y, val_pred_y, average='binary'))\n",
        "  cross_val_rocauc_list.append(roc_auc_score(val_y, val_pred_y))\n",
        "  return model\n",
        "\n"
      ],
      "execution_count": null,
      "outputs": []
    },
    {
      "cell_type": "code",
      "metadata": {
        "id": "EFKW6tuagZFd",
        "outputId": "47a2bfe6-60b1-4e86-a6fc-c755f4777411",
        "colab": {
          "base_uri": "https://localhost:8080/",
          "height": 35
        }
      },
      "source": [
        "len(Y_train_data)"
      ],
      "execution_count": null,
      "outputs": [
        {
          "output_type": "execute_result",
          "data": {
            "text/plain": [
              "49795"
            ]
          },
          "metadata": {
            "tags": []
          },
          "execution_count": 146
        }
      ]
    },
    {
      "cell_type": "code",
      "metadata": {
        "id": "JyXkpl3OfFlI"
      },
      "source": [
        "X=consolidated['commenttext']\n",
        "Y=consolidated['tag']\n",
        "X_train_data, X_test_data, Y_train_data, Y_test_data = train_test_split(X, Y,test_size=0.2,random_state=33)"
      ],
      "execution_count": null,
      "outputs": []
    },
    {
      "cell_type": "code",
      "metadata": {
        "id": "vvxEyZUzNhFW",
        "outputId": "933ec688-bb1d-4d64-8686-3f1ba4fcbe46",
        "colab": {
          "base_uri": "https://localhost:8080/",
          "height": 90
        }
      },
      "source": [
        "from collections import Counter\n",
        "\n",
        "tfidf_vectorizer=TfidfVectorizer(use_idf=True, max_df=0.95)\n",
        "tfidf_vectorizer.fit_transform(X_train_data)\n",
        "X=tfidf_vectorizer.transform(X_train_data)\n",
        "X_test_data_vectorized=tfidf_vectorizer.transform(X_test_data)\n",
        "fnames_bs=tfidf_vectorizer.get_feature_names()\n",
        "\n",
        "print(Counter(Y_train_data))\n",
        "print(Counter(Y_test_data))\n",
        "print(X.shape)  \n",
        "print(X_test_data_vectorized.shape)\n",
        "\n",
        "#X_train_data, X_test_data, Y_train_data, Y_test_data = train_test_split(X, Y,stratify=Y, test_size=0.2)"
      ],
      "execution_count": null,
      "outputs": [
        {
          "output_type": "stream",
          "text": [
            "Counter({0: 39753, 1: 3294})\n",
            "Counter({0: 9986, 1: 776})\n",
            "(43047, 13567)\n",
            "(10762, 13567)\n"
          ],
          "name": "stdout"
        }
      ]
    },
    {
      "cell_type": "code",
      "metadata": {
        "id": "YnTKasQiVD4R",
        "outputId": "77eb6bdd-9029-471f-ad30-47e5d495b469",
        "colab": {
          "base_uri": "https://localhost:8080/"
        }
      },
      "source": [
        "X_test_data.head(10)"
      ],
      "execution_count": 190,
      "outputs": [
        {
          "output_type": "execute_result",
          "data": {
            "text/plain": [
              "projectname\n",
              "jEdit-4.2                                                    create app start script\n",
              "hibernate-distribution-3.3.2.GA    pojo tuplizer using dynamicmap tuplizer pojo r...\n",
              "apache-ant-1.7.0                                             anything else classname\n",
              "apache-jmeter-2.10                                                            nonnls\n",
              "columba-1.4-src                                   get current message list selection\n",
              "sql12                              strange release xml file wasnt found problem p...\n",
              "sql12                                                      execute sql synchronously\n",
              "columba-1.4-src                                                 nonnls nonnls nonnls\n",
              "argouml                                                               todo implement\n",
              "jruby-1.4.0                                                   cant support rest java\n",
              "Name: commenttext, dtype: object"
            ]
          },
          "metadata": {
            "tags": []
          },
          "execution_count": 190
        }
      ]
    },
    {
      "cell_type": "code",
      "metadata": {
        "id": "M1SFLB_rVATE"
      },
      "source": [
        "def test_stats(model,test_inp,ground_truth_inp,senti_label):\n",
        "    rslt={}\n",
        "    tst_proj_ky='test'\n",
        "    tst_df=pd.DataFrame()\n",
        "    global tst_rslt_dic,mstr_tst_df\n",
        "    event_time=time.time()\n",
        "    \n",
        "    y_class = model.predict(test_inp)\n",
        "    logging.info(\"-prediction time- %s seconds ---\" % (time.time() - event_time))\n",
        "    if(len(senti_label) > 0):\n",
        "      logging.info(\"processing sentiment results\")\n",
        "      logging.info(\"len of y_class, type of y_class and senti_label %s,%s,%s\",len(y_class),type(y_class),type(senti_label))\n",
        "      senti_ml_combined_bu_df=pd.DataFrame({\"y_class\": y_class,\"senti_label\": senti_label})\n",
        "      senti_ml_combined_bu_df.to_csv('/content/drive/My Drive/tech_debt/senti_ml_labels_bu.tsv', sep = '\\t',encoding='latin-1')      \n",
        "      for y_class_ind in range(len(y_class)):\n",
        "        if y_class[y_class_ind] == 0 and senti_label[y_class_ind] == 1:\n",
        "          y_class[y_class_ind]=1\n",
        "        senti_ml_combined_df=pd.DataFrame({\"y_class\": y_class,\"senti_label\": senti_label})\n",
        "        senti_ml_combined_df.to_csv('/content/drive/My Drive/tech_debt/senti_ml_labels.tsv', sep = '\\t',encoding='latin-1')\n",
        "    print(\"type of y_class:\",type(y_class),len(y_class))\n",
        "    y_pred_prob =  model.predict_proba(test_inp)[:,1]\n",
        "    logging.info(\"-inference time- %s seconds ---\" % (time.time() - event_time))\n",
        "    logging.info(classification_report(ground_truth_inp, y_class)) \n",
        "    logging.info(precision_recall_fscore_support(ground_truth_inp,y_class,average='binary'))\n",
        "    logging.info(confusion_matrix(ground_truth_inp, y_class))\n",
        "\t\n",
        "    rslt[\"prec\"]=round(precision_score(ground_truth_inp, y_class, average='binary'),3)\n",
        "    rslt[\"rcl\"]=round(recall_score(ground_truth_inp, y_class, average='binary'),3)\n",
        "    rslt[\"f1\"]=round(f1_score(ground_truth_inp, y_class,average='binary'),3)\n",
        "    rslt[\"roc_auc\"]=round(roc_auc_score(ground_truth_inp,y_class),3)\n",
        "\n",
        "    tst_rslt_dic[tst_proj_ky]=rslt\n",
        "    \n",
        "    logging.info(\"%s :  Precision: %s \",tst_proj_ky,rslt[\"prec\"])\n",
        "    logging.info(\"%s :  Recall: %s \",tst_proj_ky,rslt[\"rcl\"])\n",
        "    logging.info(\"%s :  F1: %s \",tst_proj_ky,rslt[\"f1\"])\n",
        "    logging.info(\"%s :  ROC-AUC: %s \",tst_proj_ky,rslt[\"roc_auc\"])\n",
        "\n"
      ],
      "execution_count": 187,
      "outputs": []
    },
    {
      "cell_type": "code",
      "metadata": {
        "id": "M3evjMqRN4ZT",
        "outputId": "6b4ff2f0-2ae9-42c8-8424-db02ec92a425",
        "colab": {
          "base_uri": "https://localhost:8080/"
        }
      },
      "source": [
        "senti_flag=0\n",
        "def xgb_model(senti_flag,senti_rslts):\n",
        "    \n",
        "    cv_prec_lst=[]\n",
        "    cv_rcl_lst=[]\n",
        "    cv_f1_lst=[]\n",
        "    cv_roc_auc_lst=[]\n",
        "    cv_spec_lst=[]\n",
        "    cv_sens_lst=[]\n",
        "    cv_gm_lst=[]\n",
        "    \n",
        "    global val_conf_mat_tp,cross_val_prec_list,cross_val_rcl_list,cross_val_f1_list,cross_val_rocauc_list,cv_rslt_dic,mstr_tst_df\n",
        "    global cross_val_sens_list,cross_val_spec_list,cross_val_gm_list,model_history,best_model_ind,tst_rslt_dic,tst_rslt_mstr_dic,scale_positive_weight\n",
        "    global bal_tech\n",
        "    X_train, X_test, Y_train, Y_test = train_test_split(X, Y_train_data,test_size=0.1,random_state=33)\n",
        "    event_time=time.time()\n",
        "    model_history.append(model_fitting(X_train, X_test, Y_train, Y_test))\n",
        "    logging.info(\"-Training time- %s seconds ---\" % (time.time() - event_time))\n",
        "    best_model_ind= 0#np.argmax(val_conf_mat_tp)\n",
        "    #logging.info(\"Best Performing Model index: %s\",best_model_ind)\n",
        "    logging.info(\"CV: Precision: %s\",cross_val_prec_list[best_model_ind])\n",
        "    logging.info(\"CV: Recall: %s\",cross_val_rcl_list[best_model_ind])\n",
        "    logging.info(\"CV: F1: %s\",cross_val_f1_list[best_model_ind])\n",
        "    logging.info(\"CV: ROC-AUC: %s\",cross_val_rocauc_list[best_model_ind])\n",
        "    #logging.info(\"Geometric Mean: %s\",cross_val_gm_list[best_model_ind])\n",
        "    #logging.info(\"Sensitivity: %s\",cross_val_sens_list[best_model_ind])\n",
        "    #logging.info(\"Specificity: %s\",cross_val_spec_list[best_model_ind])\n",
        "    logging.info(\"*********\")\n",
        "    if senti_flag :\n",
        "      test_stats(model_history[best_model_ind],X_test_data_vectorized,Y_test_data,senti_rslts)\n",
        "    else:\n",
        "      test_stats(model_history[best_model_ind],X_test_data_vectorized,Y_test_data,pd.Series())\n",
        "    val_conf_mat_tp=[]\n",
        "    cross_val_prec_list=[]\n",
        "    cross_val_rcl_list=[]\n",
        "    cross_val_f1_list=[]\n",
        "    cross_val_rocauc_list=[]\n",
        "    cross_val_sens_list=[]\n",
        "    cross_val_spec_list=[]\n",
        "    cross_val_gm_list=[]\n",
        "    model_history = []\n",
        "    best_model_ind=0    \n",
        "          \n",
        " \n",
        "xgb_model(senti_flag,pd.Series())\n",
        "print(\"******\")\n",
        "\n"
      ],
      "execution_count": 188,
      "outputs": [
        {
          "output_type": "stream",
          "text": [
            "/usr/local/lib/python3.6/dist-packages/ipykernel_launcher.py:45: DeprecationWarning: The default dtype for empty Series will be 'object' instead of 'float64' in a future version. Specify a dtype explicitly to silence this warning.\n",
            "2020-10-28 17:31:45,004 : INFO : Fitting a XGB Model...\n",
            "2020-10-28 17:31:47,961 : INFO : Cross-Validating with validation data...\n",
            "2020-10-28 17:31:47,979 : INFO : Cross-Validation Prediction time: 0.0169525146484375\n",
            "2020-10-28 17:31:47,985 : INFO : [[3918   26]\n",
            " [  82  279]]\n",
            "2020-10-28 17:31:47,994 : INFO : -Training time- 2.9899649620056152 seconds ---\n",
            "2020-10-28 17:31:47,995 : INFO : CV: Precision: 0.9147540983606557\n",
            "2020-10-28 17:31:47,996 : INFO : CV: Recall: 0.7728531855955678\n",
            "2020-10-28 17:31:47,997 : INFO : CV: F1: 0.8378378378378377\n",
            "2020-10-28 17:31:47,998 : INFO : CV: ROC-AUC: 0.8831304467531591\n",
            "2020-10-28 17:31:48,000 : INFO : *********\n",
            "/usr/local/lib/python3.6/dist-packages/ipykernel_launcher.py:32: DeprecationWarning: The default dtype for empty Series will be 'object' instead of 'float64' in a future version. Specify a dtype explicitly to silence this warning.\n",
            "2020-10-28 17:31:48,031 : INFO : -prediction time- 0.02950739860534668 seconds ---\n",
            "2020-10-28 17:31:48,065 : INFO : -inference time- 0.06292152404785156 seconds ---\n",
            "2020-10-28 17:31:48,081 : INFO :               precision    recall  f1-score   support\n",
            "\n",
            "           0       0.98      0.99      0.99      9986\n",
            "           1       0.91      0.76      0.83       776\n",
            "\n",
            "    accuracy                           0.98     10762\n",
            "   macro avg       0.95      0.88      0.91     10762\n",
            "weighted avg       0.98      0.98      0.98     10762\n",
            "\n",
            "2020-10-28 17:31:48,087 : INFO : (0.9107692307692308, 0.7628865979381443, 0.8302945301542778, None)\n",
            "2020-10-28 17:31:48,098 : INFO : [[9928   58]\n",
            " [ 184  592]]\n",
            "2020-10-28 17:31:48,114 : INFO : test :  Precision: 0.911 \n",
            "2020-10-28 17:31:48,114 : INFO : test :  Recall: 0.763 \n",
            "2020-10-28 17:31:48,115 : INFO : test :  F1: 0.83 \n",
            "2020-10-28 17:31:48,116 : INFO : test :  ROC-AUC: 0.879 \n"
          ],
          "name": "stderr"
        },
        {
          "output_type": "stream",
          "text": [
            "type of y_class: <class 'numpy.ndarray'> 10762\n",
            "******\n"
          ],
          "name": "stdout"
        }
      ]
    },
    {
      "cell_type": "code",
      "metadata": {
        "id": "DNT8nSPFeU1g"
      },
      "source": [
        "test_df=pd.DataFrame({\"test_data\": X_test_data,\"label\": Y_test_data})\n",
        "test_df.index =np.arange(1,len(test_df)+1)\n",
        "test_df['id']=test_df.index + 1\n",
        "\n",
        "#type(X_test_data)"
      ],
      "execution_count": null,
      "outputs": []
    },
    {
      "cell_type": "code",
      "metadata": {
        "id": "NuQ3b0951QqX"
      },
      "source": [
        ""
      ],
      "execution_count": null,
      "outputs": []
    },
    {
      "cell_type": "code",
      "metadata": {
        "id": "6koKVHOdtwZ5",
        "outputId": "4b9f3dd1-c7b1-4b4f-c511-a260a514651c",
        "colab": {
          "base_uri": "https://localhost:8080/",
          "height": 35
        }
      },
      "source": [
        "test_df.shape"
      ],
      "execution_count": null,
      "outputs": [
        {
          "output_type": "execute_result",
          "data": {
            "text/plain": [
              "(10762, 3)"
            ]
          },
          "metadata": {
            "tags": []
          },
          "execution_count": 154
        }
      ]
    },
    {
      "cell_type": "code",
      "metadata": {
        "id": "8cp19fihqbc8",
        "outputId": "5c812adc-5530-4033-fe2e-1e65e8e83926",
        "colab": {
          "base_uri": "https://localhost:8080/",
          "height": 363
        }
      },
      "source": [
        "test_df.head(10)"
      ],
      "execution_count": null,
      "outputs": [
        {
          "output_type": "execute_result",
          "data": {
            "text/html": [
              "<div>\n",
              "<style scoped>\n",
              "    .dataframe tbody tr th:only-of-type {\n",
              "        vertical-align: middle;\n",
              "    }\n",
              "\n",
              "    .dataframe tbody tr th {\n",
              "        vertical-align: top;\n",
              "    }\n",
              "\n",
              "    .dataframe thead th {\n",
              "        text-align: right;\n",
              "    }\n",
              "</style>\n",
              "<table border=\"1\" class=\"dataframe\">\n",
              "  <thead>\n",
              "    <tr style=\"text-align: right;\">\n",
              "      <th></th>\n",
              "      <th>test_data</th>\n",
              "      <th>label</th>\n",
              "      <th>id</th>\n",
              "    </tr>\n",
              "  </thead>\n",
              "  <tbody>\n",
              "    <tr>\n",
              "      <th>1</th>\n",
              "      <td>create app start script</td>\n",
              "      <td>0</td>\n",
              "      <td>2</td>\n",
              "    </tr>\n",
              "    <tr>\n",
              "      <th>2</th>\n",
              "      <td>pojo tuplizer using dynamicmap tuplizer pojo r...</td>\n",
              "      <td>0</td>\n",
              "      <td>3</td>\n",
              "    </tr>\n",
              "    <tr>\n",
              "      <th>3</th>\n",
              "      <td>anything else classname</td>\n",
              "      <td>0</td>\n",
              "      <td>4</td>\n",
              "    </tr>\n",
              "    <tr>\n",
              "      <th>4</th>\n",
              "      <td>nonnls</td>\n",
              "      <td>0</td>\n",
              "      <td>5</td>\n",
              "    </tr>\n",
              "    <tr>\n",
              "      <th>5</th>\n",
              "      <td>get current message list selection</td>\n",
              "      <td>0</td>\n",
              "      <td>6</td>\n",
              "    </tr>\n",
              "    <tr>\n",
              "      <th>6</th>\n",
              "      <td>strange release xml file wasnt found problem p...</td>\n",
              "      <td>0</td>\n",
              "      <td>7</td>\n",
              "    </tr>\n",
              "    <tr>\n",
              "      <th>7</th>\n",
              "      <td>execute sql synchronously</td>\n",
              "      <td>0</td>\n",
              "      <td>8</td>\n",
              "    </tr>\n",
              "    <tr>\n",
              "      <th>8</th>\n",
              "      <td>nonnls nonnls nonnls</td>\n",
              "      <td>0</td>\n",
              "      <td>9</td>\n",
              "    </tr>\n",
              "    <tr>\n",
              "      <th>9</th>\n",
              "      <td>todo implement</td>\n",
              "      <td>1</td>\n",
              "      <td>10</td>\n",
              "    </tr>\n",
              "    <tr>\n",
              "      <th>10</th>\n",
              "      <td>cant support rest java</td>\n",
              "      <td>0</td>\n",
              "      <td>11</td>\n",
              "    </tr>\n",
              "  </tbody>\n",
              "</table>\n",
              "</div>"
            ],
            "text/plain": [
              "                                            test_data  label  id\n",
              "1                             create app start script      0   2\n",
              "2   pojo tuplizer using dynamicmap tuplizer pojo r...      0   3\n",
              "3                             anything else classname      0   4\n",
              "4                                              nonnls      0   5\n",
              "5                  get current message list selection      0   6\n",
              "6   strange release xml file wasnt found problem p...      0   7\n",
              "7                           execute sql synchronously      0   8\n",
              "8                                nonnls nonnls nonnls      0   9\n",
              "9                                      todo implement      1  10\n",
              "10                             cant support rest java      0  11"
            ]
          },
          "metadata": {
            "tags": []
          },
          "execution_count": 155
        }
      ]
    },
    {
      "cell_type": "code",
      "metadata": {
        "id": "jwc1gAIW40wu",
        "outputId": "8d32458d-47b3-4d1b-8625-1f75de217c51",
        "colab": {
          "base_uri": "https://localhost:8080/",
          "height": 363
        }
      },
      "source": [
        "test_df.head(10)"
      ],
      "execution_count": null,
      "outputs": [
        {
          "output_type": "execute_result",
          "data": {
            "text/html": [
              "<div>\n",
              "<style scoped>\n",
              "    .dataframe tbody tr th:only-of-type {\n",
              "        vertical-align: middle;\n",
              "    }\n",
              "\n",
              "    .dataframe tbody tr th {\n",
              "        vertical-align: top;\n",
              "    }\n",
              "\n",
              "    .dataframe thead th {\n",
              "        text-align: right;\n",
              "    }\n",
              "</style>\n",
              "<table border=\"1\" class=\"dataframe\">\n",
              "  <thead>\n",
              "    <tr style=\"text-align: right;\">\n",
              "      <th></th>\n",
              "      <th>test_data</th>\n",
              "      <th>label</th>\n",
              "      <th>id</th>\n",
              "    </tr>\n",
              "  </thead>\n",
              "  <tbody>\n",
              "    <tr>\n",
              "      <th>1</th>\n",
              "      <td>create app start script</td>\n",
              "      <td>0</td>\n",
              "      <td>2</td>\n",
              "    </tr>\n",
              "    <tr>\n",
              "      <th>2</th>\n",
              "      <td>pojo tuplizer using dynamicmap tuplizer pojo r...</td>\n",
              "      <td>0</td>\n",
              "      <td>3</td>\n",
              "    </tr>\n",
              "    <tr>\n",
              "      <th>3</th>\n",
              "      <td>anything else classname</td>\n",
              "      <td>0</td>\n",
              "      <td>4</td>\n",
              "    </tr>\n",
              "    <tr>\n",
              "      <th>4</th>\n",
              "      <td>nonnls</td>\n",
              "      <td>0</td>\n",
              "      <td>5</td>\n",
              "    </tr>\n",
              "    <tr>\n",
              "      <th>5</th>\n",
              "      <td>get current message list selection</td>\n",
              "      <td>0</td>\n",
              "      <td>6</td>\n",
              "    </tr>\n",
              "    <tr>\n",
              "      <th>6</th>\n",
              "      <td>strange release xml file wasnt found problem p...</td>\n",
              "      <td>0</td>\n",
              "      <td>7</td>\n",
              "    </tr>\n",
              "    <tr>\n",
              "      <th>7</th>\n",
              "      <td>execute sql synchronously</td>\n",
              "      <td>0</td>\n",
              "      <td>8</td>\n",
              "    </tr>\n",
              "    <tr>\n",
              "      <th>8</th>\n",
              "      <td>nonnls nonnls nonnls</td>\n",
              "      <td>0</td>\n",
              "      <td>9</td>\n",
              "    </tr>\n",
              "    <tr>\n",
              "      <th>9</th>\n",
              "      <td>todo implement</td>\n",
              "      <td>1</td>\n",
              "      <td>10</td>\n",
              "    </tr>\n",
              "    <tr>\n",
              "      <th>10</th>\n",
              "      <td>cant support rest java</td>\n",
              "      <td>0</td>\n",
              "      <td>11</td>\n",
              "    </tr>\n",
              "  </tbody>\n",
              "</table>\n",
              "</div>"
            ],
            "text/plain": [
              "                                            test_data  label  id\n",
              "1                             create app start script      0   2\n",
              "2   pojo tuplizer using dynamicmap tuplizer pojo r...      0   3\n",
              "3                             anything else classname      0   4\n",
              "4                                              nonnls      0   5\n",
              "5                  get current message list selection      0   6\n",
              "6   strange release xml file wasnt found problem p...      0   7\n",
              "7                           execute sql synchronously      0   8\n",
              "8                                nonnls nonnls nonnls      0   9\n",
              "9                                      todo implement      1  10\n",
              "10                             cant support rest java      0  11"
            ]
          },
          "metadata": {
            "tags": []
          },
          "execution_count": 156
        }
      ]
    },
    {
      "cell_type": "code",
      "metadata": {
        "id": "BSSgxkUi5PbP",
        "outputId": "596d4788-76d3-4168-95a7-b1d7f96e86ef",
        "colab": {
          "base_uri": "https://localhost:8080/",
          "height": 35
        }
      },
      "source": [
        "test_df.columns"
      ],
      "execution_count": null,
      "outputs": [
        {
          "output_type": "execute_result",
          "data": {
            "text/plain": [
              "Index(['test_data', 'label', 'id'], dtype='object')"
            ]
          },
          "metadata": {
            "tags": []
          },
          "execution_count": 157
        }
      ]
    },
    {
      "cell_type": "code",
      "metadata": {
        "id": "Bv0TgNfi5SB5"
      },
      "source": [
        "test_df.rename(columns={1:'test_data',\n",
        "                          2:'label',\n",
        "                          3:'id'}, \n",
        "                 inplace=True)"
      ],
      "execution_count": null,
      "outputs": []
    },
    {
      "cell_type": "code",
      "metadata": {
        "id": "dBPEnVn3uyeh",
        "outputId": "48af5576-a7dd-478b-95b7-c30a8665abb4",
        "colab": {
          "base_uri": "https://localhost:8080/",
          "height": 35
        }
      },
      "source": [
        "len(test_df)"
      ],
      "execution_count": null,
      "outputs": [
        {
          "output_type": "execute_result",
          "data": {
            "text/plain": [
              "10762"
            ]
          },
          "metadata": {
            "tags": []
          },
          "execution_count": 158
        }
      ]
    },
    {
      "cell_type": "code",
      "metadata": {
        "id": "DofN8K6zutxo"
      },
      "source": [
        " test_df.dropna(subset = ['test_data'], inplace=True)"
      ],
      "execution_count": null,
      "outputs": []
    },
    {
      "cell_type": "code",
      "metadata": {
        "id": "3VokiQg_u4lb",
        "outputId": "36b40e2b-1882-48a8-e996-e898ef8735b3",
        "colab": {
          "base_uri": "https://localhost:8080/",
          "height": 35
        }
      },
      "source": [
        "len(test_df)"
      ],
      "execution_count": null,
      "outputs": [
        {
          "output_type": "execute_result",
          "data": {
            "text/plain": [
              "10762"
            ]
          },
          "metadata": {
            "tags": []
          },
          "execution_count": 160
        }
      ]
    },
    {
      "cell_type": "code",
      "metadata": {
        "id": "1cyCVBtZpsJw"
      },
      "source": [
        "test_df.to_csv('/content/drive/My Drive/tech_debt/xgboost_testdata_for_sentistrength.tsv', sep = '\\t',encoding='latin-1')"
      ],
      "execution_count": null,
      "outputs": []
    },
    {
      "cell_type": "code",
      "metadata": {
        "id": "_2-NUh3xxTlY"
      },
      "source": [
        "test_senti_strength_rslts_df = pd.read_csv('/content/drive/My Drive/tech_debt/xgboost_testdata_for_sentistrength_classID.csv',sep = '\\t')#,names=[\"ID\",\"pos_score\", \"neg_score\"])#'utf-8')"
      ],
      "execution_count": null,
      "outputs": []
    },
    {
      "cell_type": "code",
      "metadata": {
        "id": "0sIKXYVFxueW",
        "outputId": "3eed107f-3d27-455e-e0e4-946dd187e5a9",
        "colab": {
          "base_uri": "https://localhost:8080/",
          "height": 35
        }
      },
      "source": [
        "print(len(test_senti_strength_rslts_df))"
      ],
      "execution_count": null,
      "outputs": [
        {
          "output_type": "stream",
          "text": [
            "10762\n"
          ],
          "name": "stdout"
        }
      ]
    },
    {
      "cell_type": "code",
      "metadata": {
        "id": "9be4BRZvxyZq"
      },
      "source": [
        "test_senti_strength_rslts_df['senti_combined_score'] =  test_senti_strength_rslts_df[['pos_score', 'neg_score']].sum(axis=1)"
      ],
      "execution_count": null,
      "outputs": []
    },
    {
      "cell_type": "code",
      "metadata": {
        "id": "S2-iYfzGy3Zi",
        "outputId": "3fe17228-d98f-4207-d98c-2b7ddef87483",
        "colab": {
          "base_uri": "https://localhost:8080/",
          "height": 363
        }
      },
      "source": [
        "test_senti_strength_rslts_df.head(10)"
      ],
      "execution_count": null,
      "outputs": [
        {
          "output_type": "execute_result",
          "data": {
            "text/html": [
              "<div>\n",
              "<style scoped>\n",
              "    .dataframe tbody tr th:only-of-type {\n",
              "        vertical-align: middle;\n",
              "    }\n",
              "\n",
              "    .dataframe tbody tr th {\n",
              "        vertical-align: top;\n",
              "    }\n",
              "\n",
              "    .dataframe thead th {\n",
              "        text-align: right;\n",
              "    }\n",
              "</style>\n",
              "<table border=\"1\" class=\"dataframe\">\n",
              "  <thead>\n",
              "    <tr style=\"text-align: right;\">\n",
              "      <th></th>\n",
              "      <th>ID</th>\n",
              "      <th>pos_score</th>\n",
              "      <th>neg_score</th>\n",
              "      <th>senti_combined_score</th>\n",
              "    </tr>\n",
              "  </thead>\n",
              "  <tbody>\n",
              "    <tr>\n",
              "      <th>0</th>\n",
              "      <td>2</td>\n",
              "      <td>1</td>\n",
              "      <td>-1</td>\n",
              "      <td>0</td>\n",
              "    </tr>\n",
              "    <tr>\n",
              "      <th>1</th>\n",
              "      <td>3</td>\n",
              "      <td>2</td>\n",
              "      <td>-1</td>\n",
              "      <td>1</td>\n",
              "    </tr>\n",
              "    <tr>\n",
              "      <th>2</th>\n",
              "      <td>4</td>\n",
              "      <td>1</td>\n",
              "      <td>-1</td>\n",
              "      <td>0</td>\n",
              "    </tr>\n",
              "    <tr>\n",
              "      <th>3</th>\n",
              "      <td>5</td>\n",
              "      <td>1</td>\n",
              "      <td>-1</td>\n",
              "      <td>0</td>\n",
              "    </tr>\n",
              "    <tr>\n",
              "      <th>4</th>\n",
              "      <td>6</td>\n",
              "      <td>1</td>\n",
              "      <td>-1</td>\n",
              "      <td>0</td>\n",
              "    </tr>\n",
              "    <tr>\n",
              "      <th>5</th>\n",
              "      <td>7</td>\n",
              "      <td>1</td>\n",
              "      <td>-2</td>\n",
              "      <td>-1</td>\n",
              "    </tr>\n",
              "    <tr>\n",
              "      <th>6</th>\n",
              "      <td>8</td>\n",
              "      <td>1</td>\n",
              "      <td>-2</td>\n",
              "      <td>-1</td>\n",
              "    </tr>\n",
              "    <tr>\n",
              "      <th>7</th>\n",
              "      <td>9</td>\n",
              "      <td>1</td>\n",
              "      <td>-1</td>\n",
              "      <td>0</td>\n",
              "    </tr>\n",
              "    <tr>\n",
              "      <th>8</th>\n",
              "      <td>10</td>\n",
              "      <td>1</td>\n",
              "      <td>-1</td>\n",
              "      <td>0</td>\n",
              "    </tr>\n",
              "    <tr>\n",
              "      <th>9</th>\n",
              "      <td>11</td>\n",
              "      <td>1</td>\n",
              "      <td>-2</td>\n",
              "      <td>-1</td>\n",
              "    </tr>\n",
              "  </tbody>\n",
              "</table>\n",
              "</div>"
            ],
            "text/plain": [
              "   ID  pos_score  neg_score  senti_combined_score\n",
              "0   2          1         -1                     0\n",
              "1   3          2         -1                     1\n",
              "2   4          1         -1                     0\n",
              "3   5          1         -1                     0\n",
              "4   6          1         -1                     0\n",
              "5   7          1         -2                    -1\n",
              "6   8          1         -2                    -1\n",
              "7   9          1         -1                     0\n",
              "8  10          1         -1                     0\n",
              "9  11          1         -2                    -1"
            ]
          },
          "metadata": {
            "tags": []
          },
          "execution_count": 166
        }
      ]
    },
    {
      "cell_type": "code",
      "metadata": {
        "id": "gZDuyRoZyH56"
      },
      "source": [
        "test_senti_strength_rslts_df.loc[test_senti_strength_rslts_df.senti_combined_score <= -1,'binary_sentiment']=1\n",
        "test_senti_strength_rslts_df.loc[test_senti_strength_rslts_df.senti_combined_score >= 0, 'binary_sentiment']=0"
      ],
      "execution_count": null,
      "outputs": []
    },
    {
      "cell_type": "code",
      "metadata": {
        "id": "S-vzv8Wsy-ID",
        "outputId": "fe4ee512-f505-4f3b-a5a5-bc6b53bbd6b9",
        "colab": {
          "base_uri": "https://localhost:8080/",
          "height": 457
        }
      },
      "source": [
        "test_senti_strength_rslts_df.head(13)"
      ],
      "execution_count": null,
      "outputs": [
        {
          "output_type": "execute_result",
          "data": {
            "text/html": [
              "<div>\n",
              "<style scoped>\n",
              "    .dataframe tbody tr th:only-of-type {\n",
              "        vertical-align: middle;\n",
              "    }\n",
              "\n",
              "    .dataframe tbody tr th {\n",
              "        vertical-align: top;\n",
              "    }\n",
              "\n",
              "    .dataframe thead th {\n",
              "        text-align: right;\n",
              "    }\n",
              "</style>\n",
              "<table border=\"1\" class=\"dataframe\">\n",
              "  <thead>\n",
              "    <tr style=\"text-align: right;\">\n",
              "      <th></th>\n",
              "      <th>ID</th>\n",
              "      <th>pos_score</th>\n",
              "      <th>neg_score</th>\n",
              "      <th>senti_combined_score</th>\n",
              "      <th>binary_sentiment</th>\n",
              "    </tr>\n",
              "  </thead>\n",
              "  <tbody>\n",
              "    <tr>\n",
              "      <th>0</th>\n",
              "      <td>2</td>\n",
              "      <td>1</td>\n",
              "      <td>-1</td>\n",
              "      <td>0</td>\n",
              "      <td>0.0</td>\n",
              "    </tr>\n",
              "    <tr>\n",
              "      <th>1</th>\n",
              "      <td>3</td>\n",
              "      <td>2</td>\n",
              "      <td>-1</td>\n",
              "      <td>1</td>\n",
              "      <td>0.0</td>\n",
              "    </tr>\n",
              "    <tr>\n",
              "      <th>2</th>\n",
              "      <td>4</td>\n",
              "      <td>1</td>\n",
              "      <td>-1</td>\n",
              "      <td>0</td>\n",
              "      <td>0.0</td>\n",
              "    </tr>\n",
              "    <tr>\n",
              "      <th>3</th>\n",
              "      <td>5</td>\n",
              "      <td>1</td>\n",
              "      <td>-1</td>\n",
              "      <td>0</td>\n",
              "      <td>0.0</td>\n",
              "    </tr>\n",
              "    <tr>\n",
              "      <th>4</th>\n",
              "      <td>6</td>\n",
              "      <td>1</td>\n",
              "      <td>-1</td>\n",
              "      <td>0</td>\n",
              "      <td>0.0</td>\n",
              "    </tr>\n",
              "    <tr>\n",
              "      <th>5</th>\n",
              "      <td>7</td>\n",
              "      <td>1</td>\n",
              "      <td>-2</td>\n",
              "      <td>-1</td>\n",
              "      <td>1.0</td>\n",
              "    </tr>\n",
              "    <tr>\n",
              "      <th>6</th>\n",
              "      <td>8</td>\n",
              "      <td>1</td>\n",
              "      <td>-2</td>\n",
              "      <td>-1</td>\n",
              "      <td>1.0</td>\n",
              "    </tr>\n",
              "    <tr>\n",
              "      <th>7</th>\n",
              "      <td>9</td>\n",
              "      <td>1</td>\n",
              "      <td>-1</td>\n",
              "      <td>0</td>\n",
              "      <td>0.0</td>\n",
              "    </tr>\n",
              "    <tr>\n",
              "      <th>8</th>\n",
              "      <td>10</td>\n",
              "      <td>1</td>\n",
              "      <td>-1</td>\n",
              "      <td>0</td>\n",
              "      <td>0.0</td>\n",
              "    </tr>\n",
              "    <tr>\n",
              "      <th>9</th>\n",
              "      <td>11</td>\n",
              "      <td>1</td>\n",
              "      <td>-2</td>\n",
              "      <td>-1</td>\n",
              "      <td>1.0</td>\n",
              "    </tr>\n",
              "    <tr>\n",
              "      <th>10</th>\n",
              "      <td>12</td>\n",
              "      <td>1</td>\n",
              "      <td>-1</td>\n",
              "      <td>0</td>\n",
              "      <td>0.0</td>\n",
              "    </tr>\n",
              "    <tr>\n",
              "      <th>11</th>\n",
              "      <td>13</td>\n",
              "      <td>1</td>\n",
              "      <td>-1</td>\n",
              "      <td>0</td>\n",
              "      <td>0.0</td>\n",
              "    </tr>\n",
              "    <tr>\n",
              "      <th>12</th>\n",
              "      <td>14</td>\n",
              "      <td>1</td>\n",
              "      <td>-1</td>\n",
              "      <td>0</td>\n",
              "      <td>0.0</td>\n",
              "    </tr>\n",
              "  </tbody>\n",
              "</table>\n",
              "</div>"
            ],
            "text/plain": [
              "    ID  pos_score  neg_score  senti_combined_score  binary_sentiment\n",
              "0    2          1         -1                     0               0.0\n",
              "1    3          2         -1                     1               0.0\n",
              "2    4          1         -1                     0               0.0\n",
              "3    5          1         -1                     0               0.0\n",
              "4    6          1         -1                     0               0.0\n",
              "5    7          1         -2                    -1               1.0\n",
              "6    8          1         -2                    -1               1.0\n",
              "7    9          1         -1                     0               0.0\n",
              "8   10          1         -1                     0               0.0\n",
              "9   11          1         -2                    -1               1.0\n",
              "10  12          1         -1                     0               0.0\n",
              "11  13          1         -1                     0               0.0\n",
              "12  14          1         -1                     0               0.0"
            ]
          },
          "metadata": {
            "tags": []
          },
          "execution_count": 168
        }
      ]
    },
    {
      "cell_type": "code",
      "metadata": {
        "id": "BZlIVVmOzjv-",
        "outputId": "bd9f3c63-eff9-4036-9dde-a28d790428ef",
        "colab": {
          "base_uri": "https://localhost:8080/",
          "height": 35
        }
      },
      "source": [
        "len(test_df)"
      ],
      "execution_count": null,
      "outputs": [
        {
          "output_type": "execute_result",
          "data": {
            "text/plain": [
              "10762"
            ]
          },
          "metadata": {
            "tags": []
          },
          "execution_count": 169
        }
      ]
    },
    {
      "cell_type": "code",
      "metadata": {
        "id": "v_KcFrOH17bG",
        "outputId": "dba2028b-f75e-499f-a6e1-0cf23883a36c",
        "colab": {
          "base_uri": "https://localhost:8080/",
          "height": 35
        }
      },
      "source": [
        "len(test_df)"
      ],
      "execution_count": null,
      "outputs": [
        {
          "output_type": "execute_result",
          "data": {
            "text/plain": [
              "10762"
            ]
          },
          "metadata": {
            "tags": []
          },
          "execution_count": 170
        }
      ]
    },
    {
      "cell_type": "code",
      "metadata": {
        "id": "yGYxPVTBzgCy"
      },
      "source": [
        "test_df['pos_score']=test_senti_strength_rslts_df['pos_score'].values\n",
        "test_df['neg_score']=test_senti_strength_rslts_df['neg_score'].values\n",
        "test_df['binary_sentiment']=test_senti_strength_rslts_df['binary_sentiment'].values\n",
        "#test_df['overall_score']=test_senti_strength_rslts_df['binary_result'].values"
      ],
      "execution_count": null,
      "outputs": []
    },
    {
      "cell_type": "code",
      "metadata": {
        "id": "aKYZTAMv4SI7"
      },
      "source": [
        "from sklearn.preprocessing import LabelEncoder\n",
        "test_df['binary_sentiment']=LabelEncoder().fit_transform(test_df.binary_sentiment)"
      ],
      "execution_count": 177,
      "outputs": []
    },
    {
      "cell_type": "code",
      "metadata": {
        "id": "eVShJU4zRHgW"
      },
      "source": [
        ""
      ],
      "execution_count": null,
      "outputs": []
    },
    {
      "cell_type": "code",
      "metadata": {
        "id": "iunr8Dfb3q63",
        "outputId": "208b429d-3b67-4326-9090-a17aa2eb3b8c",
        "colab": {
          "base_uri": "https://localhost:8080/"
        }
      },
      "source": [
        "xgb_model(1,test_df['binary_sentiment'].values)"
      ],
      "execution_count": 189,
      "outputs": [
        {
          "output_type": "stream",
          "text": [
            "2020-10-28 17:32:05,464 : INFO : Fitting a XGB Model...\n",
            "2020-10-28 17:32:08,496 : INFO : Cross-Validating with validation data...\n",
            "2020-10-28 17:32:08,512 : INFO : Cross-Validation Prediction time: 0.015118837356567383\n",
            "2020-10-28 17:32:08,518 : INFO : [[3918   26]\n",
            " [  82  279]]\n",
            "2020-10-28 17:32:08,527 : INFO : -Training time- 3.063105344772339 seconds ---\n",
            "2020-10-28 17:32:08,528 : INFO : CV: Precision: 0.9147540983606557\n",
            "2020-10-28 17:32:08,530 : INFO : CV: Recall: 0.7728531855955678\n",
            "2020-10-28 17:32:08,532 : INFO : CV: F1: 0.8378378378378377\n",
            "2020-10-28 17:32:08,533 : INFO : CV: ROC-AUC: 0.8831304467531591\n",
            "2020-10-28 17:32:08,535 : INFO : *********\n",
            "2020-10-28 17:32:08,566 : INFO : -prediction time- 0.029683828353881836 seconds ---\n",
            "2020-10-28 17:32:08,567 : INFO : processing sentiment results\n",
            "2020-10-28 17:32:08,567 : INFO : len of y_class, type of y_class and senti_label 10762,<class 'numpy.ndarray'>,<class 'numpy.ndarray'>\n",
            "2020-10-28 17:36:01,602 : INFO : -inference time- 233.06549048423767 seconds ---\n",
            "2020-10-28 17:36:01,621 : INFO :               precision    recall  f1-score   support\n",
            "\n",
            "           0       0.99      0.90      0.94      9986\n",
            "           1       0.39      0.82      0.53       776\n",
            "\n",
            "    accuracy                           0.89     10762\n",
            "   macro avg       0.69      0.86      0.73     10762\n",
            "weighted avg       0.94      0.89      0.91     10762\n",
            "\n",
            "2020-10-28 17:36:01,626 : INFO : (0.3885853066180935, 0.8247422680412371, 0.5282707387536111, None)\n",
            "2020-10-28 17:36:01,636 : INFO : [[8979 1007]\n",
            " [ 136  640]]\n",
            "2020-10-28 17:36:01,651 : INFO : test :  Precision: 0.389 \n",
            "2020-10-28 17:36:01,651 : INFO : test :  Recall: 0.825 \n",
            "2020-10-28 17:36:01,652 : INFO : test :  F1: 0.528 \n",
            "2020-10-28 17:36:01,653 : INFO : test :  ROC-AUC: 0.862 \n"
          ],
          "name": "stderr"
        },
        {
          "output_type": "stream",
          "text": [
            "type of y_class: <class 'numpy.ndarray'> 10762\n"
          ],
          "name": "stdout"
        }
      ]
    },
    {
      "cell_type": "code",
      "metadata": {
        "id": "JRg-v-fnKC-k"
      },
      "source": [
        ""
      ],
      "execution_count": null,
      "outputs": []
    }
  ]
}